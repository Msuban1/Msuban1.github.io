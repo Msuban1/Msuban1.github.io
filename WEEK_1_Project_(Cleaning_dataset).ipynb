{
  "nbformat": 4,
  "nbformat_minor": 0,
  "metadata": {
    "colab": {
      "provenance": [],
      "authorship_tag": "ABX9TyN8eJk5KMCK616LMmlk43hX",
      "include_colab_link": true
    },
    "kernelspec": {
      "name": "python3",
      "display_name": "Python 3"
    },
    "language_info": {
      "name": "python"
    }
  },
  "cells": [
    {
      "cell_type": "markdown",
      "metadata": {
        "id": "view-in-github",
        "colab_type": "text"
      },
      "source": [
        "<a href=\"https://colab.research.google.com/github/Msuban1/Msuban1.github.io/blob/main/WEEK_1_Project_(Cleaning_dataset).ipynb\" target=\"_parent\"><img src=\"https://colab.research.google.com/assets/colab-badge.svg\" alt=\"Open In Colab\"/></a>"
      ]
    },
    {
      "cell_type": "code",
      "source": [
        "# This installs the tools we need to work with Google Sheets\n",
        "!pip install --upgrade gspread gspread-dataframe google-auth"
      ],
      "metadata": {
        "colab": {
          "base_uri": "https://localhost:8080/"
        },
        "id": "B-pax3wvCtCh",
        "outputId": "8af2df60-4615-4b9a-f01d-968f75e8c1d9"
      },
      "execution_count": 36,
      "outputs": [
        {
          "output_type": "stream",
          "name": "stdout",
          "text": [
            "Requirement already satisfied: gspread in /usr/local/lib/python3.11/dist-packages (6.2.1)\n",
            "Requirement already satisfied: gspread-dataframe in /usr/local/lib/python3.11/dist-packages (4.0.0)\n",
            "Requirement already satisfied: google-auth in /usr/local/lib/python3.11/dist-packages (2.40.2)\n",
            "Requirement already satisfied: google-auth-oauthlib>=0.4.1 in /usr/local/lib/python3.11/dist-packages (from gspread) (1.2.2)\n",
            "Requirement already satisfied: pandas>=0.24.0 in /usr/local/lib/python3.11/dist-packages (from gspread-dataframe) (2.2.3)\n",
            "Requirement already satisfied: six>=1.12.0 in /usr/local/lib/python3.11/dist-packages (from gspread-dataframe) (1.17.0)\n",
            "Requirement already satisfied: cachetools<6.0,>=2.0.0 in /usr/local/lib/python3.11/dist-packages (from google-auth) (5.5.2)\n",
            "Requirement already satisfied: pyasn1-modules>=0.2.1 in /usr/local/lib/python3.11/dist-packages (from google-auth) (0.4.2)\n",
            "Requirement already satisfied: rsa<5,>=3.1.4 in /usr/local/lib/python3.11/dist-packages (from google-auth) (4.9.1)\n",
            "Requirement already satisfied: requests-oauthlib>=0.7.0 in /usr/local/lib/python3.11/dist-packages (from google-auth-oauthlib>=0.4.1->gspread) (2.0.0)\n",
            "Requirement already satisfied: numpy>=1.23.2 in /usr/local/lib/python3.11/dist-packages (from pandas>=0.24.0->gspread-dataframe) (2.0.2)\n",
            "Requirement already satisfied: python-dateutil>=2.8.2 in /usr/local/lib/python3.11/dist-packages (from pandas>=0.24.0->gspread-dataframe) (2.9.0.post0)\n",
            "Requirement already satisfied: pytz>=2020.1 in /usr/local/lib/python3.11/dist-packages (from pandas>=0.24.0->gspread-dataframe) (2025.2)\n",
            "Requirement already satisfied: tzdata>=2022.7 in /usr/local/lib/python3.11/dist-packages (from pandas>=0.24.0->gspread-dataframe) (2025.2)\n",
            "Requirement already satisfied: pyasn1<0.7.0,>=0.6.1 in /usr/local/lib/python3.11/dist-packages (from pyasn1-modules>=0.2.1->google-auth) (0.6.1)\n",
            "Requirement already satisfied: oauthlib>=3.0.0 in /usr/local/lib/python3.11/dist-packages (from requests-oauthlib>=0.7.0->google-auth-oauthlib>=0.4.1->gspread) (3.2.2)\n",
            "Requirement already satisfied: requests>=2.0.0 in /usr/local/lib/python3.11/dist-packages (from requests-oauthlib>=0.7.0->google-auth-oauthlib>=0.4.1->gspread) (2.32.3)\n",
            "Requirement already satisfied: charset-normalizer<4,>=2 in /usr/local/lib/python3.11/dist-packages (from requests>=2.0.0->requests-oauthlib>=0.7.0->google-auth-oauthlib>=0.4.1->gspread) (3.4.2)\n",
            "Requirement already satisfied: idna<4,>=2.5 in /usr/local/lib/python3.11/dist-packages (from requests>=2.0.0->requests-oauthlib>=0.7.0->google-auth-oauthlib>=0.4.1->gspread) (3.10)\n",
            "Requirement already satisfied: urllib3<3,>=1.21.1 in /usr/local/lib/python3.11/dist-packages (from requests>=2.0.0->requests-oauthlib>=0.7.0->google-auth-oauthlib>=0.4.1->gspread) (2.4.0)\n",
            "Requirement already satisfied: certifi>=2017.4.17 in /usr/local/lib/python3.11/dist-packages (from requests>=2.0.0->requests-oauthlib>=0.7.0->google-auth-oauthlib>=0.4.1->gspread) (2025.4.26)\n"
          ]
        }
      ]
    },
    {
      "cell_type": "code",
      "source": [
        "import pandas as pd\n",
        "import gspread\n",
        "from google.colab import auth\n",
        "from google.auth import default\n",
        "from gspread_dataframe import get_as_dataframe, set_with_dataframe\n",
        "\n",
        "# This asks for permission to access your Google account\n",
        "auth.authenticate_user()\n",
        "\n",
        "# This sets up the connection to Google Sheets\n",
        "creds, _ = default()\n",
        "gc = gspread.authorize(creds)\n"
      ],
      "metadata": {
        "id": "3TxbdoQUDIyU"
      },
      "execution_count": 37,
      "outputs": []
    },
    {
      "cell_type": "code",
      "source": [
        "# Paste your Google Sheet link below\n",
        "sheet_url = 'https://docs.google.com/spreadsheets/d/1kojKp5JqJS7O9LgK1t3E5ZtjuYGm95Qx2R7DetCVfXs/edit?gid=866428366#gid=866428366'\n",
        "\n",
        "# Open the spreadsheet\n",
        "spreadsheet = gc.open_by_url(sheet_url)\n",
        "\n",
        "# Get the first worksheet (tab) in the spreadsheet\n",
        "worksheet = spreadsheet.get_worksheet(0)\n",
        "\n",
        "# Convert the worksheet to a pandas DataFrame so we can clean it\n",
        "sales_df = get_as_dataframe(worksheet, dtype=str)\n",
        "\n",
        "# Remove completely empty rows (just in case)\n",
        "sales_df.dropna(how='all', inplace=True)\n",
        "\n",
        "# Show the rows of data\n",
        "sales_df.head(20)"
      ],
      "metadata": {
        "colab": {
          "base_uri": "https://localhost:8080/",
          "height": 669
        },
        "id": "7QTM6FRYEQcR",
        "outputId": "192b8bb3-3dc1-4e93-faba-991ea3907e10"
      },
      "execution_count": 55,
      "outputs": [
        {
          "output_type": "execute_result",
          "data": {
            "text/plain": [
              "   Transaction_ID        Date Customer_ID     Product     Category Quantity  \\\n",
              "0            1001  2024-01-05        C001      Laptop  Electronics        1   \n",
              "1            1002  2024-01-10        C002  Smartphone  Electronics        2   \n",
              "2            1003  2024-01-12        C003  Headphones  Electronics        1   \n",
              "3            1004  2024-02-05        C004      Tablet  Electronics        1   \n",
              "4            1005  2024-02-08        C005        Book        Books        3   \n",
              "5            1006  2024-02-10        C001      Laptop  Electronics        1   \n",
              "6            1007  2024-03-15        C006       Shoes     Clothing        2   \n",
              "7            1008  2024-03-18        C007     T-Shirt     Clothing        1   \n",
              "8            1009  2024-03-20        C008  Smartwatch  Electronics        1   \n",
              "9            1010  2024-04-01        C009        Book        Books        2   \n",
              "10           1011  2024-04-05        C002  Smartphone  Electronics        2   \n",
              "11           1012  2024-04-10        C010      Tablet  Electronics        1   \n",
              "12           1013  2024-05-01        C011       Shoes     Clothing        1   \n",
              "13           1014  2024-05-05        C012  Headphones  Electronics        1   \n",
              "14           1015  2024-05-08        C013      Laptop  Electronics        1   \n",
              "15           1016  2024-05-10        C014     T-Shirt     Clothing        3   \n",
              "16           1017  2024-06-01        C015  Smartwatch  Electronics        1   \n",
              "17           1018  2024-06-05        C016        Book        Books        4   \n",
              "18           1019  2024-06-08        C017  Smartphone  Electronics        1   \n",
              "19           1020  2024-06-10        C018      Tablet  Electronics        1   \n",
              "\n",
              "   Price       Total_Amount Payment_Method Region  \n",
              "0    800  375.2631578947368    Credit Card  North  \n",
              "1    600               1200           Cash  South  \n",
              "2    100                100         PayPal   West  \n",
              "3    500                500     Debit Card   East  \n",
              "4     20                 60    Credit Card  North  \n",
              "5    800                800    Credit Card  North  \n",
              "6     50                100           Cash  South  \n",
              "7     25                 25         PayPal   West  \n",
              "8    200                200     Debit Card   East  \n",
              "9     20                 40    Credit Card  North  \n",
              "10   600               1200           Cash  South  \n",
              "11   500                500     Debit Card   East  \n",
              "12    50                 50           Cash  South  \n",
              "13   100                100         PayPal   West  \n",
              "14   800                800    Credit Card  North  \n",
              "15    25                 75           Cash  South  \n",
              "16   200                200     Debit Card   East  \n",
              "17    20                 80    Credit Card  North  \n",
              "18   600                600           Cash  South  \n",
              "19   500                500     Debit Card   East  "
            ],
            "text/html": [
              "\n",
              "  <div id=\"df-046033f3-e911-4850-aa04-738bc187ba64\" class=\"colab-df-container\">\n",
              "    <div>\n",
              "<style scoped>\n",
              "    .dataframe tbody tr th:only-of-type {\n",
              "        vertical-align: middle;\n",
              "    }\n",
              "\n",
              "    .dataframe tbody tr th {\n",
              "        vertical-align: top;\n",
              "    }\n",
              "\n",
              "    .dataframe thead th {\n",
              "        text-align: right;\n",
              "    }\n",
              "</style>\n",
              "<table border=\"1\" class=\"dataframe\">\n",
              "  <thead>\n",
              "    <tr style=\"text-align: right;\">\n",
              "      <th></th>\n",
              "      <th>Transaction_ID</th>\n",
              "      <th>Date</th>\n",
              "      <th>Customer_ID</th>\n",
              "      <th>Product</th>\n",
              "      <th>Category</th>\n",
              "      <th>Quantity</th>\n",
              "      <th>Price</th>\n",
              "      <th>Total_Amount</th>\n",
              "      <th>Payment_Method</th>\n",
              "      <th>Region</th>\n",
              "    </tr>\n",
              "  </thead>\n",
              "  <tbody>\n",
              "    <tr>\n",
              "      <th>0</th>\n",
              "      <td>1001</td>\n",
              "      <td>2024-01-05</td>\n",
              "      <td>C001</td>\n",
              "      <td>Laptop</td>\n",
              "      <td>Electronics</td>\n",
              "      <td>1</td>\n",
              "      <td>800</td>\n",
              "      <td>375.2631578947368</td>\n",
              "      <td>Credit Card</td>\n",
              "      <td>North</td>\n",
              "    </tr>\n",
              "    <tr>\n",
              "      <th>1</th>\n",
              "      <td>1002</td>\n",
              "      <td>2024-01-10</td>\n",
              "      <td>C002</td>\n",
              "      <td>Smartphone</td>\n",
              "      <td>Electronics</td>\n",
              "      <td>2</td>\n",
              "      <td>600</td>\n",
              "      <td>1200</td>\n",
              "      <td>Cash</td>\n",
              "      <td>South</td>\n",
              "    </tr>\n",
              "    <tr>\n",
              "      <th>2</th>\n",
              "      <td>1003</td>\n",
              "      <td>2024-01-12</td>\n",
              "      <td>C003</td>\n",
              "      <td>Headphones</td>\n",
              "      <td>Electronics</td>\n",
              "      <td>1</td>\n",
              "      <td>100</td>\n",
              "      <td>100</td>\n",
              "      <td>PayPal</td>\n",
              "      <td>West</td>\n",
              "    </tr>\n",
              "    <tr>\n",
              "      <th>3</th>\n",
              "      <td>1004</td>\n",
              "      <td>2024-02-05</td>\n",
              "      <td>C004</td>\n",
              "      <td>Tablet</td>\n",
              "      <td>Electronics</td>\n",
              "      <td>1</td>\n",
              "      <td>500</td>\n",
              "      <td>500</td>\n",
              "      <td>Debit Card</td>\n",
              "      <td>East</td>\n",
              "    </tr>\n",
              "    <tr>\n",
              "      <th>4</th>\n",
              "      <td>1005</td>\n",
              "      <td>2024-02-08</td>\n",
              "      <td>C005</td>\n",
              "      <td>Book</td>\n",
              "      <td>Books</td>\n",
              "      <td>3</td>\n",
              "      <td>20</td>\n",
              "      <td>60</td>\n",
              "      <td>Credit Card</td>\n",
              "      <td>North</td>\n",
              "    </tr>\n",
              "    <tr>\n",
              "      <th>5</th>\n",
              "      <td>1006</td>\n",
              "      <td>2024-02-10</td>\n",
              "      <td>C001</td>\n",
              "      <td>Laptop</td>\n",
              "      <td>Electronics</td>\n",
              "      <td>1</td>\n",
              "      <td>800</td>\n",
              "      <td>800</td>\n",
              "      <td>Credit Card</td>\n",
              "      <td>North</td>\n",
              "    </tr>\n",
              "    <tr>\n",
              "      <th>6</th>\n",
              "      <td>1007</td>\n",
              "      <td>2024-03-15</td>\n",
              "      <td>C006</td>\n",
              "      <td>Shoes</td>\n",
              "      <td>Clothing</td>\n",
              "      <td>2</td>\n",
              "      <td>50</td>\n",
              "      <td>100</td>\n",
              "      <td>Cash</td>\n",
              "      <td>South</td>\n",
              "    </tr>\n",
              "    <tr>\n",
              "      <th>7</th>\n",
              "      <td>1008</td>\n",
              "      <td>2024-03-18</td>\n",
              "      <td>C007</td>\n",
              "      <td>T-Shirt</td>\n",
              "      <td>Clothing</td>\n",
              "      <td>1</td>\n",
              "      <td>25</td>\n",
              "      <td>25</td>\n",
              "      <td>PayPal</td>\n",
              "      <td>West</td>\n",
              "    </tr>\n",
              "    <tr>\n",
              "      <th>8</th>\n",
              "      <td>1009</td>\n",
              "      <td>2024-03-20</td>\n",
              "      <td>C008</td>\n",
              "      <td>Smartwatch</td>\n",
              "      <td>Electronics</td>\n",
              "      <td>1</td>\n",
              "      <td>200</td>\n",
              "      <td>200</td>\n",
              "      <td>Debit Card</td>\n",
              "      <td>East</td>\n",
              "    </tr>\n",
              "    <tr>\n",
              "      <th>9</th>\n",
              "      <td>1010</td>\n",
              "      <td>2024-04-01</td>\n",
              "      <td>C009</td>\n",
              "      <td>Book</td>\n",
              "      <td>Books</td>\n",
              "      <td>2</td>\n",
              "      <td>20</td>\n",
              "      <td>40</td>\n",
              "      <td>Credit Card</td>\n",
              "      <td>North</td>\n",
              "    </tr>\n",
              "    <tr>\n",
              "      <th>10</th>\n",
              "      <td>1011</td>\n",
              "      <td>2024-04-05</td>\n",
              "      <td>C002</td>\n",
              "      <td>Smartphone</td>\n",
              "      <td>Electronics</td>\n",
              "      <td>2</td>\n",
              "      <td>600</td>\n",
              "      <td>1200</td>\n",
              "      <td>Cash</td>\n",
              "      <td>South</td>\n",
              "    </tr>\n",
              "    <tr>\n",
              "      <th>11</th>\n",
              "      <td>1012</td>\n",
              "      <td>2024-04-10</td>\n",
              "      <td>C010</td>\n",
              "      <td>Tablet</td>\n",
              "      <td>Electronics</td>\n",
              "      <td>1</td>\n",
              "      <td>500</td>\n",
              "      <td>500</td>\n",
              "      <td>Debit Card</td>\n",
              "      <td>East</td>\n",
              "    </tr>\n",
              "    <tr>\n",
              "      <th>12</th>\n",
              "      <td>1013</td>\n",
              "      <td>2024-05-01</td>\n",
              "      <td>C011</td>\n",
              "      <td>Shoes</td>\n",
              "      <td>Clothing</td>\n",
              "      <td>1</td>\n",
              "      <td>50</td>\n",
              "      <td>50</td>\n",
              "      <td>Cash</td>\n",
              "      <td>South</td>\n",
              "    </tr>\n",
              "    <tr>\n",
              "      <th>13</th>\n",
              "      <td>1014</td>\n",
              "      <td>2024-05-05</td>\n",
              "      <td>C012</td>\n",
              "      <td>Headphones</td>\n",
              "      <td>Electronics</td>\n",
              "      <td>1</td>\n",
              "      <td>100</td>\n",
              "      <td>100</td>\n",
              "      <td>PayPal</td>\n",
              "      <td>West</td>\n",
              "    </tr>\n",
              "    <tr>\n",
              "      <th>14</th>\n",
              "      <td>1015</td>\n",
              "      <td>2024-05-08</td>\n",
              "      <td>C013</td>\n",
              "      <td>Laptop</td>\n",
              "      <td>Electronics</td>\n",
              "      <td>1</td>\n",
              "      <td>800</td>\n",
              "      <td>800</td>\n",
              "      <td>Credit Card</td>\n",
              "      <td>North</td>\n",
              "    </tr>\n",
              "    <tr>\n",
              "      <th>15</th>\n",
              "      <td>1016</td>\n",
              "      <td>2024-05-10</td>\n",
              "      <td>C014</td>\n",
              "      <td>T-Shirt</td>\n",
              "      <td>Clothing</td>\n",
              "      <td>3</td>\n",
              "      <td>25</td>\n",
              "      <td>75</td>\n",
              "      <td>Cash</td>\n",
              "      <td>South</td>\n",
              "    </tr>\n",
              "    <tr>\n",
              "      <th>16</th>\n",
              "      <td>1017</td>\n",
              "      <td>2024-06-01</td>\n",
              "      <td>C015</td>\n",
              "      <td>Smartwatch</td>\n",
              "      <td>Electronics</td>\n",
              "      <td>1</td>\n",
              "      <td>200</td>\n",
              "      <td>200</td>\n",
              "      <td>Debit Card</td>\n",
              "      <td>East</td>\n",
              "    </tr>\n",
              "    <tr>\n",
              "      <th>17</th>\n",
              "      <td>1018</td>\n",
              "      <td>2024-06-05</td>\n",
              "      <td>C016</td>\n",
              "      <td>Book</td>\n",
              "      <td>Books</td>\n",
              "      <td>4</td>\n",
              "      <td>20</td>\n",
              "      <td>80</td>\n",
              "      <td>Credit Card</td>\n",
              "      <td>North</td>\n",
              "    </tr>\n",
              "    <tr>\n",
              "      <th>18</th>\n",
              "      <td>1019</td>\n",
              "      <td>2024-06-08</td>\n",
              "      <td>C017</td>\n",
              "      <td>Smartphone</td>\n",
              "      <td>Electronics</td>\n",
              "      <td>1</td>\n",
              "      <td>600</td>\n",
              "      <td>600</td>\n",
              "      <td>Cash</td>\n",
              "      <td>South</td>\n",
              "    </tr>\n",
              "    <tr>\n",
              "      <th>19</th>\n",
              "      <td>1020</td>\n",
              "      <td>2024-06-10</td>\n",
              "      <td>C018</td>\n",
              "      <td>Tablet</td>\n",
              "      <td>Electronics</td>\n",
              "      <td>1</td>\n",
              "      <td>500</td>\n",
              "      <td>500</td>\n",
              "      <td>Debit Card</td>\n",
              "      <td>East</td>\n",
              "    </tr>\n",
              "  </tbody>\n",
              "</table>\n",
              "</div>\n",
              "    <div class=\"colab-df-buttons\">\n",
              "\n",
              "  <div class=\"colab-df-container\">\n",
              "    <button class=\"colab-df-convert\" onclick=\"convertToInteractive('df-046033f3-e911-4850-aa04-738bc187ba64')\"\n",
              "            title=\"Convert this dataframe to an interactive table.\"\n",
              "            style=\"display:none;\">\n",
              "\n",
              "  <svg xmlns=\"http://www.w3.org/2000/svg\" height=\"24px\" viewBox=\"0 -960 960 960\">\n",
              "    <path d=\"M120-120v-720h720v720H120Zm60-500h600v-160H180v160Zm220 220h160v-160H400v160Zm0 220h160v-160H400v160ZM180-400h160v-160H180v160Zm440 0h160v-160H620v160ZM180-180h160v-160H180v160Zm440 0h160v-160H620v160Z\"/>\n",
              "  </svg>\n",
              "    </button>\n",
              "\n",
              "  <style>\n",
              "    .colab-df-container {\n",
              "      display:flex;\n",
              "      gap: 12px;\n",
              "    }\n",
              "\n",
              "    .colab-df-convert {\n",
              "      background-color: #E8F0FE;\n",
              "      border: none;\n",
              "      border-radius: 50%;\n",
              "      cursor: pointer;\n",
              "      display: none;\n",
              "      fill: #1967D2;\n",
              "      height: 32px;\n",
              "      padding: 0 0 0 0;\n",
              "      width: 32px;\n",
              "    }\n",
              "\n",
              "    .colab-df-convert:hover {\n",
              "      background-color: #E2EBFA;\n",
              "      box-shadow: 0px 1px 2px rgba(60, 64, 67, 0.3), 0px 1px 3px 1px rgba(60, 64, 67, 0.15);\n",
              "      fill: #174EA6;\n",
              "    }\n",
              "\n",
              "    .colab-df-buttons div {\n",
              "      margin-bottom: 4px;\n",
              "    }\n",
              "\n",
              "    [theme=dark] .colab-df-convert {\n",
              "      background-color: #3B4455;\n",
              "      fill: #D2E3FC;\n",
              "    }\n",
              "\n",
              "    [theme=dark] .colab-df-convert:hover {\n",
              "      background-color: #434B5C;\n",
              "      box-shadow: 0px 1px 3px 1px rgba(0, 0, 0, 0.15);\n",
              "      filter: drop-shadow(0px 1px 2px rgba(0, 0, 0, 0.3));\n",
              "      fill: #FFFFFF;\n",
              "    }\n",
              "  </style>\n",
              "\n",
              "    <script>\n",
              "      const buttonEl =\n",
              "        document.querySelector('#df-046033f3-e911-4850-aa04-738bc187ba64 button.colab-df-convert');\n",
              "      buttonEl.style.display =\n",
              "        google.colab.kernel.accessAllowed ? 'block' : 'none';\n",
              "\n",
              "      async function convertToInteractive(key) {\n",
              "        const element = document.querySelector('#df-046033f3-e911-4850-aa04-738bc187ba64');\n",
              "        const dataTable =\n",
              "          await google.colab.kernel.invokeFunction('convertToInteractive',\n",
              "                                                    [key], {});\n",
              "        if (!dataTable) return;\n",
              "\n",
              "        const docLinkHtml = 'Like what you see? Visit the ' +\n",
              "          '<a target=\"_blank\" href=https://colab.research.google.com/notebooks/data_table.ipynb>data table notebook</a>'\n",
              "          + ' to learn more about interactive tables.';\n",
              "        element.innerHTML = '';\n",
              "        dataTable['output_type'] = 'display_data';\n",
              "        await google.colab.output.renderOutput(dataTable, element);\n",
              "        const docLink = document.createElement('div');\n",
              "        docLink.innerHTML = docLinkHtml;\n",
              "        element.appendChild(docLink);\n",
              "      }\n",
              "    </script>\n",
              "  </div>\n",
              "\n",
              "\n",
              "    <div id=\"df-3134afb8-0a1e-48d4-accb-f715d12b02b8\">\n",
              "      <button class=\"colab-df-quickchart\" onclick=\"quickchart('df-3134afb8-0a1e-48d4-accb-f715d12b02b8')\"\n",
              "                title=\"Suggest charts\"\n",
              "                style=\"display:none;\">\n",
              "\n",
              "<svg xmlns=\"http://www.w3.org/2000/svg\" height=\"24px\"viewBox=\"0 0 24 24\"\n",
              "     width=\"24px\">\n",
              "    <g>\n",
              "        <path d=\"M19 3H5c-1.1 0-2 .9-2 2v14c0 1.1.9 2 2 2h14c1.1 0 2-.9 2-2V5c0-1.1-.9-2-2-2zM9 17H7v-7h2v7zm4 0h-2V7h2v10zm4 0h-2v-4h2v4z\"/>\n",
              "    </g>\n",
              "</svg>\n",
              "      </button>\n",
              "\n",
              "<style>\n",
              "  .colab-df-quickchart {\n",
              "      --bg-color: #E8F0FE;\n",
              "      --fill-color: #1967D2;\n",
              "      --hover-bg-color: #E2EBFA;\n",
              "      --hover-fill-color: #174EA6;\n",
              "      --disabled-fill-color: #AAA;\n",
              "      --disabled-bg-color: #DDD;\n",
              "  }\n",
              "\n",
              "  [theme=dark] .colab-df-quickchart {\n",
              "      --bg-color: #3B4455;\n",
              "      --fill-color: #D2E3FC;\n",
              "      --hover-bg-color: #434B5C;\n",
              "      --hover-fill-color: #FFFFFF;\n",
              "      --disabled-bg-color: #3B4455;\n",
              "      --disabled-fill-color: #666;\n",
              "  }\n",
              "\n",
              "  .colab-df-quickchart {\n",
              "    background-color: var(--bg-color);\n",
              "    border: none;\n",
              "    border-radius: 50%;\n",
              "    cursor: pointer;\n",
              "    display: none;\n",
              "    fill: var(--fill-color);\n",
              "    height: 32px;\n",
              "    padding: 0;\n",
              "    width: 32px;\n",
              "  }\n",
              "\n",
              "  .colab-df-quickchart:hover {\n",
              "    background-color: var(--hover-bg-color);\n",
              "    box-shadow: 0 1px 2px rgba(60, 64, 67, 0.3), 0 1px 3px 1px rgba(60, 64, 67, 0.15);\n",
              "    fill: var(--button-hover-fill-color);\n",
              "  }\n",
              "\n",
              "  .colab-df-quickchart-complete:disabled,\n",
              "  .colab-df-quickchart-complete:disabled:hover {\n",
              "    background-color: var(--disabled-bg-color);\n",
              "    fill: var(--disabled-fill-color);\n",
              "    box-shadow: none;\n",
              "  }\n",
              "\n",
              "  .colab-df-spinner {\n",
              "    border: 2px solid var(--fill-color);\n",
              "    border-color: transparent;\n",
              "    border-bottom-color: var(--fill-color);\n",
              "    animation:\n",
              "      spin 1s steps(1) infinite;\n",
              "  }\n",
              "\n",
              "  @keyframes spin {\n",
              "    0% {\n",
              "      border-color: transparent;\n",
              "      border-bottom-color: var(--fill-color);\n",
              "      border-left-color: var(--fill-color);\n",
              "    }\n",
              "    20% {\n",
              "      border-color: transparent;\n",
              "      border-left-color: var(--fill-color);\n",
              "      border-top-color: var(--fill-color);\n",
              "    }\n",
              "    30% {\n",
              "      border-color: transparent;\n",
              "      border-left-color: var(--fill-color);\n",
              "      border-top-color: var(--fill-color);\n",
              "      border-right-color: var(--fill-color);\n",
              "    }\n",
              "    40% {\n",
              "      border-color: transparent;\n",
              "      border-right-color: var(--fill-color);\n",
              "      border-top-color: var(--fill-color);\n",
              "    }\n",
              "    60% {\n",
              "      border-color: transparent;\n",
              "      border-right-color: var(--fill-color);\n",
              "    }\n",
              "    80% {\n",
              "      border-color: transparent;\n",
              "      border-right-color: var(--fill-color);\n",
              "      border-bottom-color: var(--fill-color);\n",
              "    }\n",
              "    90% {\n",
              "      border-color: transparent;\n",
              "      border-bottom-color: var(--fill-color);\n",
              "    }\n",
              "  }\n",
              "</style>\n",
              "\n",
              "      <script>\n",
              "        async function quickchart(key) {\n",
              "          const quickchartButtonEl =\n",
              "            document.querySelector('#' + key + ' button');\n",
              "          quickchartButtonEl.disabled = true;  // To prevent multiple clicks.\n",
              "          quickchartButtonEl.classList.add('colab-df-spinner');\n",
              "          try {\n",
              "            const charts = await google.colab.kernel.invokeFunction(\n",
              "                'suggestCharts', [key], {});\n",
              "          } catch (error) {\n",
              "            console.error('Error during call to suggestCharts:', error);\n",
              "          }\n",
              "          quickchartButtonEl.classList.remove('colab-df-spinner');\n",
              "          quickchartButtonEl.classList.add('colab-df-quickchart-complete');\n",
              "        }\n",
              "        (() => {\n",
              "          let quickchartButtonEl =\n",
              "            document.querySelector('#df-3134afb8-0a1e-48d4-accb-f715d12b02b8 button');\n",
              "          quickchartButtonEl.style.display =\n",
              "            google.colab.kernel.accessAllowed ? 'block' : 'none';\n",
              "        })();\n",
              "      </script>\n",
              "    </div>\n",
              "\n",
              "    </div>\n",
              "  </div>\n"
            ],
            "application/vnd.google.colaboratory.intrinsic+json": {
              "type": "dataframe",
              "variable_name": "sales_df",
              "summary": "{\n  \"name\": \"sales_df\",\n  \"rows\": 20,\n  \"fields\": [\n    {\n      \"column\": \"Transaction_ID\",\n      \"properties\": {\n        \"dtype\": \"string\",\n        \"num_unique_values\": 20,\n        \"samples\": [\n          \"1001\",\n          \"1018\",\n          \"1016\"\n        ],\n        \"semantic_type\": \"\",\n        \"description\": \"\"\n      }\n    },\n    {\n      \"column\": \"Date\",\n      \"properties\": {\n        \"dtype\": \"object\",\n        \"num_unique_values\": 20,\n        \"samples\": [\n          \"2024-01-05\",\n          \"2024-06-05\",\n          \"2024-05-10\"\n        ],\n        \"semantic_type\": \"\",\n        \"description\": \"\"\n      }\n    },\n    {\n      \"column\": \"Customer_ID\",\n      \"properties\": {\n        \"dtype\": \"string\",\n        \"num_unique_values\": 18,\n        \"samples\": [\n          \"C001\",\n          \"C002\",\n          \"C009\"\n        ],\n        \"semantic_type\": \"\",\n        \"description\": \"\"\n      }\n    },\n    {\n      \"column\": \"Product\",\n      \"properties\": {\n        \"dtype\": \"category\",\n        \"num_unique_values\": 8,\n        \"samples\": [\n          \"Smartphone\",\n          \"Shoes\",\n          \"Laptop\"\n        ],\n        \"semantic_type\": \"\",\n        \"description\": \"\"\n      }\n    },\n    {\n      \"column\": \"Category\",\n      \"properties\": {\n        \"dtype\": \"category\",\n        \"num_unique_values\": 3,\n        \"samples\": [\n          \"Electronics\",\n          \"Books\",\n          \"Clothing\"\n        ],\n        \"semantic_type\": \"\",\n        \"description\": \"\"\n      }\n    },\n    {\n      \"column\": \"Quantity\",\n      \"properties\": {\n        \"dtype\": \"category\",\n        \"num_unique_values\": 4,\n        \"samples\": [\n          \"2\",\n          \"4\",\n          \"1\"\n        ],\n        \"semantic_type\": \"\",\n        \"description\": \"\"\n      }\n    },\n    {\n      \"column\": \"Price\",\n      \"properties\": {\n        \"dtype\": \"category\",\n        \"num_unique_values\": 8,\n        \"samples\": [\n          \"600\",\n          \"50\",\n          \"800\"\n        ],\n        \"semantic_type\": \"\",\n        \"description\": \"\"\n      }\n    },\n    {\n      \"column\": \"Total_Amount\",\n      \"properties\": {\n        \"dtype\": \"string\",\n        \"num_unique_values\": 13,\n        \"samples\": [\n          \"80\",\n          \"50\",\n          \"375.2631578947368\"\n        ],\n        \"semantic_type\": \"\",\n        \"description\": \"\"\n      }\n    },\n    {\n      \"column\": \"Payment_Method\",\n      \"properties\": {\n        \"dtype\": \"category\",\n        \"num_unique_values\": 4,\n        \"samples\": [\n          \"Cash\",\n          \"Debit Card\",\n          \"Credit Card\"\n        ],\n        \"semantic_type\": \"\",\n        \"description\": \"\"\n      }\n    },\n    {\n      \"column\": \"Region\",\n      \"properties\": {\n        \"dtype\": \"category\",\n        \"num_unique_values\": 4,\n        \"samples\": [\n          \"South\",\n          \"East\",\n          \"North\"\n        ],\n        \"semantic_type\": \"\",\n        \"description\": \"\"\n      }\n    }\n  ]\n}"
            }
          },
          "metadata": {},
          "execution_count": 55
        }
      ]
    },
    {
      "source": [
        "# Task\n",
        "Clean this dataset.\n",
        "\n",
        "Here is all the data you need:\n",
        "\"working copy of sales_data.xlsx\""
      ],
      "cell_type": "markdown",
      "metadata": {
        "id": "WCnnF9Ko7R9f"
      }
    },
    {
      "source": [
        "## Data cleaning\n",
        "\n",
        "### Subtask:\n",
        "Remove all duplicates from dataset.\n"
      ],
      "cell_type": "markdown",
      "metadata": {
        "id": "ztEK0e-A7Sa6"
      }
    },
    {
      "source": [
        "**Reasoning**:\n",
        "Inspect the data, cleaning the data collected by removing any duplicates to ensure a correct outcome and insight to make any business decision.\n",
        "\n"
      ],
      "cell_type": "markdown",
      "metadata": {
        "id": "wj5aVE9t7S4P"
      }
    },
    {
      "source": [
        "# Check how many duplicate rows there are\n",
        "duplicate_count = sales_df.duplicated().sum()\n",
        "print(\"Number of duplicate rows found:\", duplicate_count)\n",
        "\n",
        "# Remove duplicates directly in the dataset\n",
        "sales_df.drop_duplicates(inplace=True)\n",
        "\n",
        "# Show the new size of the dataset\n",
        "print(\"Shape after removing duplicates:\", sales_df.shape)"
      ],
      "cell_type": "code",
      "metadata": {
        "colab": {
          "base_uri": "https://localhost:8080/"
        },
        "id": "ds7MlHyW7TH9",
        "outputId": "434cc7f8-71a3-457d-ace9-c0cdc3e2e27b"
      },
      "execution_count": 39,
      "outputs": [
        {
          "output_type": "stream",
          "name": "stdout",
          "text": [
            "Number of duplicate rows found: 0\n",
            "Shape after removing duplicates: (20, 10)\n"
          ]
        }
      ]
    },
    {
      "cell_type": "markdown",
      "source": [
        "**Conclusion**: There was no duplicates found in the dataset.\n",
        "The dataset is 20 rows, 10 columns."
      ],
      "metadata": {
        "id": "pmw0VeLqHJhR"
      }
    },
    {
      "cell_type": "markdown",
      "source": [
        "***Saved cleaned duplicates dataset to Google Sheet***"
      ],
      "metadata": {
        "id": "0OiKFdIbQfeA"
      }
    },
    {
      "cell_type": "code",
      "source": [
        "from gspread_dataframe import set_with_dataframe\n",
        "\n",
        "# Overwrite the original sheet with the cleaned data\n",
        "set_with_dataframe(worksheet, sales_df)\n",
        "\n",
        "print(\"Cleaned data (duplicates removed) saved to Google Sheets.\")\n"
      ],
      "metadata": {
        "colab": {
          "base_uri": "https://localhost:8080/"
        },
        "id": "uh8GXc_yQ48Q",
        "outputId": "76f639bb-2805-46a4-d417-3248fec2dc1f"
      },
      "execution_count": 40,
      "outputs": [
        {
          "output_type": "stream",
          "name": "stdout",
          "text": [
            "Cleaned data (duplicates removed) saved to Google Sheets.\n"
          ]
        }
      ]
    },
    {
      "cell_type": "markdown",
      "source": [
        "### Subtask 2:\n",
        "\n",
        "Inspect the data for missing values."
      ],
      "metadata": {
        "id": "f9jDHfN8Ijzp"
      }
    },
    {
      "cell_type": "code",
      "source": [
        "# Show count of missing values per column\n",
        "print(\"Missing values in each column:\")\n",
        "print(sales_df.isnull().sum())\n"
      ],
      "metadata": {
        "colab": {
          "base_uri": "https://localhost:8080/"
        },
        "id": "II8WWI3AJFfV",
        "outputId": "388c94a4-778b-4dd4-dda8-1b85400fe376"
      },
      "execution_count": 41,
      "outputs": [
        {
          "output_type": "stream",
          "name": "stdout",
          "text": [
            "Missing values in each column:\n",
            "Transaction_ID    0\n",
            "Date              0\n",
            "Customer_ID       0\n",
            "Product           0\n",
            "Category          0\n",
            "Quantity          0\n",
            "Price             0\n",
            "Total_Amount      0\n",
            "Payment_Method    0\n",
            "Region            0\n",
            "dtype: int64\n"
          ]
        }
      ]
    },
    {
      "cell_type": "markdown",
      "source": [
        "**Result**: 1 missing value was found in the Total_Amount column."
      ],
      "metadata": {
        "id": "VieWL-BjJLeB"
      }
    },
    {
      "cell_type": "code",
      "source": [
        "# Overwrite the worksheet with the cleaned data\n",
        "\n",
        "from gspread_dataframe import set_with_dataframe\n",
        "set_with_dataframe(worksheet, sales_df)\n",
        "\n",
        "print(\"Missing values handled and cleaned data saved back to Google Sheets.\")\n"
      ],
      "metadata": {
        "colab": {
          "base_uri": "https://localhost:8080/"
        },
        "id": "CQZcVsRDRuWo",
        "outputId": "c3f06442-1d94-4cc6-92c4-9fadcfa4f59b"
      },
      "execution_count": 42,
      "outputs": [
        {
          "output_type": "stream",
          "name": "stdout",
          "text": [
            "Missing values handled and cleaned data saved back to Google Sheets.\n"
          ]
        }
      ]
    },
    {
      "cell_type": "markdown",
      "source": [
        "### Subtask 3:\n",
        "Replace missing values with mean or median. I inspected and cleaned the dataset separating it into two catergories - Numerical and Catergorical."
      ],
      "metadata": {
        "id": "25AoTCyGJr1M"
      }
    },
    {
      "cell_type": "code",
      "source": [
        "# Convert Price column to float and fill missing values with the average\n",
        "sales_df['Price'] = sales_df['Price'].astype(float)\n",
        "average_price = sales_df['Price'].mean()\n",
        "sales_df['Price'] = sales_df['Price'].fillna(average_price)\n",
        "\n",
        "# Convert Total_Amount to float and fill missing values with the average\n",
        "sales_df['Total_Amount'] = sales_df['Total_Amount'].astype(float)\n",
        "average_total = sales_df['Total_Amount'].mean()\n",
        "sales_df['Total_Amount'] = sales_df['Total_Amount'].fillna(average_total)\n",
        "\n",
        "print(\"Filled missing values in Price and Total_Amount with their averages.\")\n",
        "\n"
      ],
      "metadata": {
        "colab": {
          "base_uri": "https://localhost:8080/"
        },
        "id": "uLjwYvOvKVyO",
        "outputId": "a8ff1c6b-c98c-407f-face-a7ca82299f87"
      },
      "execution_count": 43,
      "outputs": [
        {
          "output_type": "stream",
          "name": "stdout",
          "text": [
            "Filled missing values in Price and Total_Amount with their averages.\n"
          ]
        }
      ]
    },
    {
      "cell_type": "code",
      "source": [
        "# Fill missing values in 'Category' with the most common value\n",
        "most_common_category = sales_df['Category'].mode()[0]\n",
        "sales_df['Category'] = sales_df['Category'].fillna(most_common_category)\n",
        "\n",
        "# Fill missing values in 'Region' with the most common value\n",
        "most_common_region = sales_df['Region'].mode()[0]\n",
        "sales_df['Region'] = sales_df['Region'].fillna(most_common_region)\n",
        "\n",
        "# Fill missing values in 'Payment_Method' with the most common value\n",
        "most_common_payment = sales_df['Payment_Method'].mode()[0]\n",
        "sales_df['Payment_Method'] = sales_df['Payment_Method'].fillna(most_common_payment)\n",
        "\n",
        "print(\"Filled missing values in Category, Region, and Payment_Method with the most common value.\")\n",
        "\n"
      ],
      "metadata": {
        "colab": {
          "base_uri": "https://localhost:8080/"
        },
        "id": "OTnvIddkKpRp",
        "outputId": "33df9b85-5371-44f5-ff92-f93e9b0aefd1"
      },
      "execution_count": 44,
      "outputs": [
        {
          "output_type": "stream",
          "name": "stdout",
          "text": [
            "Filled missing values in Category, Region, and Payment_Method with the most common value.\n"
          ]
        }
      ]
    },
    {
      "cell_type": "code",
      "source": [
        "# Overwrite the worksheet with the cleaned data\n",
        "set_with_dataframe(worksheet, sales_df)\n",
        "\n",
        "print(\"Cleaned data has been saved back to your Google Sheet.\")\n"
      ],
      "metadata": {
        "colab": {
          "base_uri": "https://localhost:8080/"
        },
        "id": "cUzm1oUqR15C",
        "outputId": "54ee945b-9a35-4bee-e769-47bb1797749d"
      },
      "execution_count": 45,
      "outputs": [
        {
          "output_type": "stream",
          "name": "stdout",
          "text": [
            "Cleaned data has been saved back to your Google Sheet.\n"
          ]
        }
      ]
    },
    {
      "cell_type": "markdown",
      "source": [
        "### Subtask 4:\n",
        "Standardise Formats - This ensures data formats are consistent (e.g, dates in YYYY-MM-DD format, numbers are actually stored as numbers (not text) and numerical columns are without symbols).\n"
      ],
      "metadata": {
        "id": "Z6Wxg0dOM70g"
      }
    },
    {
      "cell_type": "code",
      "source": [
        "# Convert the 'Date' column to datetime format\n",
        "sales_df['Date'] = pd.to_datetime(sales_df['Date'], errors='coerce')\n",
        "\n",
        "# Format the date column as 'YYYY-MM-DD'\n",
        "sales_df['Date'] = sales_df['Date'].dt.strftime('%Y-%m-%d')\n",
        "\n",
        "# Fill any failed conversions with 'n/a'\n",
        "sales_df['Date'] = sales_df['Date'].fillna('n/a')\n",
        "\n",
        "print(\"✅ Dates are now in YYYY-MM-DD format.\")"
      ],
      "metadata": {
        "colab": {
          "base_uri": "https://localhost:8080/"
        },
        "id": "hr3rGORaN4zT",
        "outputId": "d8c881be-0d8d-48a5-97a8-91a3b2f23667"
      },
      "execution_count": 46,
      "outputs": [
        {
          "output_type": "stream",
          "name": "stdout",
          "text": [
            "✅ Dates are now in YYYY-MM-DD format.\n"
          ]
        }
      ]
    },
    {
      "cell_type": "code",
      "source": [
        "# Convert numeric columns to the right format\n",
        "sales_df['Price'] = pd.to_numeric(sales_df['Price'], errors='coerce')\n",
        "sales_df['Quantity'] = pd.to_numeric(sales_df['Quantity'], errors='coerce')\n",
        "sales_df['Total_Amount'] = pd.to_numeric(sales_df['Total_Amount'], errors='coerce')\n",
        "\n",
        "# If any became NaN due to errors, fill with 0 or a default value\n",
        "sales_df['Price'] = sales_df['Price'].fillna(0)\n",
        "sales_df['Quantity'] = sales_df['Quantity'].fillna(0)\n",
        "sales_df['Total_Amount'] = sales_df['Total_Amount'].fillna(0)\n",
        "\n",
        "print(\"✅ Price, Quantity, and Total_Amount columns are now numeric.\")"
      ],
      "metadata": {
        "colab": {
          "base_uri": "https://localhost:8080/"
        },
        "id": "kWXbbPkMPLVW",
        "outputId": "4f334c34-9a36-4b8a-8be0-2ae00f26df89"
      },
      "execution_count": 47,
      "outputs": [
        {
          "output_type": "stream",
          "name": "stdout",
          "text": [
            "✅ Price, Quantity, and Total_Amount columns are now numeric.\n"
          ]
        }
      ]
    },
    {
      "cell_type": "markdown",
      "source": [
        "### DATA CLEANED ✨\n",
        "\n",
        "**Time to export it onto a google sheet file!**"
      ],
      "metadata": {
        "id": "RT8sI6FRPma6"
      }
    },
    {
      "cell_type": "code",
      "source": [
        "# Save the fully cleaned and formatted dataset back to Google Sheets\n",
        "from gspread_dataframe import set_with_dataframe\n",
        "set_with_dataframe(worksheet, sales_df)\n",
        "\n",
        "print(\"Final cleaned and formatted data saved to your Google Sheet.\")\n"
      ],
      "metadata": {
        "colab": {
          "base_uri": "https://localhost:8080/"
        },
        "id": "3BCoD9sSP63f",
        "outputId": "7d5c5245-41b6-4c38-ad75-29753007c2ff"
      },
      "execution_count": 48,
      "outputs": [
        {
          "output_type": "stream",
          "name": "stdout",
          "text": [
            "Final cleaned and formatted data saved to your Google Sheet.\n"
          ]
        }
      ]
    }
  ]
}